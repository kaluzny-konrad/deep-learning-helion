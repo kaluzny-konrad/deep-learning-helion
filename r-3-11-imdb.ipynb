{
 "metadata": {
  "language_info": {
   "codemirror_mode": {
    "name": "ipython",
    "version": 3
   },
   "file_extension": ".py",
   "mimetype": "text/x-python",
   "name": "python",
   "nbconvert_exporter": "python",
   "pygments_lexer": "ipython3",
   "version": "3.8.3-final"
  },
  "orig_nbformat": 2,
  "kernelspec": {
   "name": "python3",
   "display_name": "Python 3"
  }
 },
 "nbformat": 4,
 "nbformat_minor": 2,
 "cells": [
  {
   "source": [
    "# Ładowanie i przygotowanie zbioru danych IMDB"
   ],
   "cell_type": "markdown",
   "metadata": {}
  },
  {
   "cell_type": "code",
   "execution_count": 1,
   "metadata": {},
   "outputs": [],
   "source": [
    "# ładowanie\n",
    "from keras.datasets import imdb\n",
    "(train_data, train_labels), (test_data, test_labels) = imdb.load_data(num_words=10000) # 10k najczęstszych słów"
   ]
  },
  {
   "cell_type": "code",
   "execution_count": 2,
   "metadata": {},
   "outputs": [],
   "source": [
    "# funkcja przygotowująca zbiór danych\n",
    "import numpy as np\n",
    "def vectorize_sequences(sequences, dimension=10000):\n",
    "    \"\"\"Kodowanie sekwencji wartości całkowitoliczbowych do postaci macierzy wartości binarnych.\"\"\"\n",
    "    results = np.zeros((len(sequences), dimension))\n",
    "    for i, sequence in enumerate(sequences):\n",
    "        results[i, sequence] = 1.0\n",
    "    return results"
   ]
  },
  {
   "cell_type": "code",
   "execution_count": 3,
   "metadata": {},
   "outputs": [],
   "source": [
    "# przygotowywanie zbioru danych\n",
    "x_train = vectorize_sequences(train_data)\n",
    "x_test = vectorize_sequences(test_data)\n",
    "y_train = np.asarray(train_labels).astype('float32')\n",
    "y_test = np.asarray(test_labels).astype('float32')\n",
    "\n",
    "# przygotowanie zbiorów walidacyjnych\n",
    "x_val = x_train[:10000]\n",
    "partial_x_train = x_train[10000:]\n",
    "\n",
    "y_val = y_train[:10000]\n",
    "partial_y_train = y_train[10000:]"
   ]
  },
  {
   "source": [
    "# Budowanie i kompilowanie sieci neuronów"
   ],
   "cell_type": "markdown",
   "metadata": {}
  },
  {
   "cell_type": "code",
   "execution_count": 4,
   "metadata": {},
   "outputs": [],
   "source": [
    "from keras import models\n",
    "from keras import layers\n",
    "\n",
    "# budowanie\n",
    "model = models.Sequential()\n",
    "model.add(layers.Dense(16, activation='relu', input_shape=(10000,)))\n",
    "model.add(layers.Dense(16, activation='relu'))\n",
    "model.add(layers.Dense(1, activation='sigmoid'))\n",
    "\n",
    "# kompilowanie\n",
    "model.compile(optimizer='rmsprop', loss='binary_crossentropy', metrics=['accuracy'])\n",
    "# binary_crossentropy sprawdza się najlpeiej przy zwracaniu wartości prawdopodobieństwa\n",
    "# można też użyć mean_squared_error - błąd średniokwadratowy"
   ]
  },
  {
   "source": [
    "# Trenowanie modelu"
   ],
   "cell_type": "markdown",
   "metadata": {}
  },
  {
   "cell_type": "code",
   "execution_count": 5,
   "metadata": {},
   "outputs": [
    {
     "output_type": "stream",
     "name": "stdout",
     "text": [
      "Epoch 1/20\n",
      "30/30 [==============================] - 1s 19ms/step - loss: 0.4871 - accuracy: 0.7913 - val_loss: 0.3640 - val_accuracy: 0.8714\n",
      "Epoch 2/20\n",
      "30/30 [==============================] - 0s 11ms/step - loss: 0.2839 - accuracy: 0.9067 - val_loss: 0.3003 - val_accuracy: 0.8836\n",
      "Epoch 3/20\n",
      "30/30 [==============================] - 0s 11ms/step - loss: 0.2068 - accuracy: 0.9313 - val_loss: 0.3089 - val_accuracy: 0.8722\n",
      "Epoch 4/20\n",
      "30/30 [==============================] - 0s 11ms/step - loss: 0.1625 - accuracy: 0.9478 - val_loss: 0.2783 - val_accuracy: 0.8868\n",
      "Epoch 5/20\n",
      "30/30 [==============================] - 0s 11ms/step - loss: 0.1326 - accuracy: 0.9567 - val_loss: 0.2939 - val_accuracy: 0.8850\n",
      "Epoch 6/20\n",
      "30/30 [==============================] - 0s 10ms/step - loss: 0.1067 - accuracy: 0.9675 - val_loss: 0.3054 - val_accuracy: 0.8817\n",
      "Epoch 7/20\n",
      "30/30 [==============================] - 0s 11ms/step - loss: 0.0843 - accuracy: 0.9748 - val_loss: 0.3369 - val_accuracy: 0.8771\n",
      "Epoch 8/20\n",
      "30/30 [==============================] - 0s 11ms/step - loss: 0.0697 - accuracy: 0.9805 - val_loss: 0.3397 - val_accuracy: 0.8795\n",
      "Epoch 9/20\n",
      "30/30 [==============================] - 0s 11ms/step - loss: 0.0567 - accuracy: 0.9863 - val_loss: 0.3656 - val_accuracy: 0.8762\n",
      "Epoch 10/20\n",
      "30/30 [==============================] - 0s 11ms/step - loss: 0.0439 - accuracy: 0.9904 - val_loss: 0.3875 - val_accuracy: 0.8766\n",
      "Epoch 11/20\n",
      "30/30 [==============================] - 0s 11ms/step - loss: 0.0350 - accuracy: 0.9926 - val_loss: 0.4160 - val_accuracy: 0.8756\n",
      "Epoch 12/20\n",
      "30/30 [==============================] - 0s 11ms/step - loss: 0.0266 - accuracy: 0.9954 - val_loss: 0.4443 - val_accuracy: 0.8732\n",
      "Epoch 13/20\n",
      "30/30 [==============================] - 0s 11ms/step - loss: 0.0253 - accuracy: 0.9945 - val_loss: 0.4744 - val_accuracy: 0.8719\n",
      "Epoch 14/20\n",
      "30/30 [==============================] - 0s 11ms/step - loss: 0.0122 - accuracy: 0.9993 - val_loss: 0.5594 - val_accuracy: 0.8640\n",
      "Epoch 15/20\n",
      "30/30 [==============================] - 0s 11ms/step - loss: 0.0144 - accuracy: 0.9981 - val_loss: 0.5365 - val_accuracy: 0.8705\n",
      "Epoch 16/20\n",
      "30/30 [==============================] - 0s 11ms/step - loss: 0.0117 - accuracy: 0.9977 - val_loss: 0.5658 - val_accuracy: 0.8711\n",
      "Epoch 17/20\n",
      "30/30 [==============================] - 0s 11ms/step - loss: 0.0051 - accuracy: 0.9998 - val_loss: 0.6057 - val_accuracy: 0.8675\n",
      "Epoch 18/20\n",
      "30/30 [==============================] - 0s 11ms/step - loss: 0.0080 - accuracy: 0.9985 - val_loss: 0.6318 - val_accuracy: 0.8705\n",
      "Epoch 19/20\n",
      "30/30 [==============================] - 0s 11ms/step - loss: 0.0029 - accuracy: 0.9999 - val_loss: 0.6745 - val_accuracy: 0.8654\n",
      "Epoch 20/20\n",
      "30/30 [==============================] - 0s 10ms/step - loss: 0.0081 - accuracy: 0.9983 - val_loss: 0.7041 - val_accuracy: 0.8651\n"
     ]
    }
   ],
   "source": [
    "history = model.fit(partial_x_train, partial_y_train, epochs=4, batch_size=512)"
   ]
  },
  {
   "source": [
    "# Wyświetlanie wyniku"
   ],
   "cell_type": "markdown",
   "metadata": {}
  },
  {
   "cell_type": "code",
   "execution_count": 12,
   "metadata": {},
   "outputs": [
    {
     "output_type": "stream",
     "name": "stdout",
     "text": [
      "782/782 [==============================] - 1s 943us/step - loss: 0.7699 - accuracy: 0.8529\n"
     ]
    },
    {
     "output_type": "execute_result",
     "data": {
      "text/plain": [
       "[0.7699334621429443, 0.8528800010681152]"
      ]
     },
     "metadata": {},
     "execution_count": 12
    }
   ],
   "source": [
    "results = model.evaluate(x_test, y_test)\n",
    "results"
   ]
  },
  {
   "source": [
    "# Przewidywanie prawdopodobieństwa"
   ],
   "cell_type": "markdown",
   "metadata": {}
  },
  {
   "cell_type": "code",
   "execution_count": 13,
   "metadata": {},
   "outputs": [
    {
     "output_type": "execute_result",
     "data": {
      "text/plain": [
       "array([[7.3263049e-03],\n",
       "       [1.0000000e+00],\n",
       "       [8.3799446e-01],\n",
       "       ...,\n",
       "       [5.1623583e-04],\n",
       "       [4.0316582e-03],\n",
       "       [6.4609301e-01]], dtype=float32)"
      ]
     },
     "metadata": {},
     "execution_count": 13
    }
   ],
   "source": [
    "model.predict(x_test)"
   ]
  },
  {
   "cell_type": "code",
   "execution_count": null,
   "metadata": {},
   "outputs": [],
   "source": []
  }
 ]
}